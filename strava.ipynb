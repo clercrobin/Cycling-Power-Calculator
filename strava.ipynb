{
 "cells": [
  {
   "cell_type": "markdown",
   "metadata": {},
   "source": [
    "# Features\n",
    "## Estimated Power\n",
    "## Base map\n"
   ]
  },
  {
   "cell_type": "code",
   "execution_count": 1,
   "metadata": {},
   "outputs": [],
   "source": [
    "import pandas as pd\n",
    "import numpy as np\n",
    "import xml.etree.ElementTree as ET\n",
    "import matplotlib.pyplot as plt\n",
    "from datetime import datetime"
   ]
  },
  {
   "cell_type": "code",
   "execution_count": 57,
   "metadata": {},
   "outputs": [],
   "source": [
    "root = ET.parse('May_the_wind_be_ever_in_your_favor.gpx').getroot()"
   ]
  },
  {
   "cell_type": "code",
   "execution_count": 58,
   "metadata": {},
   "outputs": [],
   "source": [
    "trk = root[1]\n",
    "seg = trk[2]\n",
    "point = seg[10]\n",
    "\n",
    "frame = {}\n",
    "frame['lat'] =  [float(x.get('lat')) for x in seg]\n",
    "frame['lon'] =  [float(x.get('lon')) for x in seg]\n",
    "frame['ele'] =  [float(x[0].text) for x in seg]\n",
    "frame['time'] =  [datetime.strptime(x[1].text, '%Y-%m-%dT%H:%M:%SZ') for x in seg]\n",
    "\n",
    "df = pd.DataFrame(frame)"
   ]
  },
  {
   "cell_type": "code",
   "execution_count": 59,
   "metadata": {},
   "outputs": [
    {
     "data": {
      "text/html": [
       "<div>\n",
       "<style scoped>\n",
       "    .dataframe tbody tr th:only-of-type {\n",
       "        vertical-align: middle;\n",
       "    }\n",
       "\n",
       "    .dataframe tbody tr th {\n",
       "        vertical-align: top;\n",
       "    }\n",
       "\n",
       "    .dataframe thead th {\n",
       "        text-align: right;\n",
       "    }\n",
       "</style>\n",
       "<table border=\"1\" class=\"dataframe\">\n",
       "  <thead>\n",
       "    <tr style=\"text-align: right;\">\n",
       "      <th></th>\n",
       "      <th>lat</th>\n",
       "      <th>lon</th>\n",
       "      <th>ele</th>\n",
       "      <th>time</th>\n",
       "    </tr>\n",
       "  </thead>\n",
       "  <tbody>\n",
       "    <tr>\n",
       "      <th>0</th>\n",
       "      <td>40.007087</td>\n",
       "      <td>-105.257127</td>\n",
       "      <td>1616.3</td>\n",
       "      <td>2019-09-09 18:19:32</td>\n",
       "    </tr>\n",
       "    <tr>\n",
       "      <th>1</th>\n",
       "      <td>40.007134</td>\n",
       "      <td>-105.257164</td>\n",
       "      <td>1616.5</td>\n",
       "      <td>2019-09-09 18:19:38</td>\n",
       "    </tr>\n",
       "    <tr>\n",
       "      <th>2</th>\n",
       "      <td>40.007153</td>\n",
       "      <td>-105.257215</td>\n",
       "      <td>1616.7</td>\n",
       "      <td>2019-09-09 18:19:40</td>\n",
       "    </tr>\n",
       "    <tr>\n",
       "      <th>3</th>\n",
       "      <td>40.007172</td>\n",
       "      <td>-105.257260</td>\n",
       "      <td>1616.8</td>\n",
       "      <td>2019-09-09 18:19:41</td>\n",
       "    </tr>\n",
       "    <tr>\n",
       "      <th>4</th>\n",
       "      <td>40.007162</td>\n",
       "      <td>-105.257336</td>\n",
       "      <td>1617.0</td>\n",
       "      <td>2019-09-09 18:19:43</td>\n",
       "    </tr>\n",
       "  </tbody>\n",
       "</table>\n",
       "</div>"
      ],
      "text/plain": [
       "         lat         lon     ele                time\n",
       "0  40.007087 -105.257127  1616.3 2019-09-09 18:19:32\n",
       "1  40.007134 -105.257164  1616.5 2019-09-09 18:19:38\n",
       "2  40.007153 -105.257215  1616.7 2019-09-09 18:19:40\n",
       "3  40.007172 -105.257260  1616.8 2019-09-09 18:19:41\n",
       "4  40.007162 -105.257336  1617.0 2019-09-09 18:19:43"
      ]
     },
     "execution_count": 59,
     "metadata": {},
     "output_type": "execute_result"
    }
   ],
   "source": [
    "df.head()"
   ]
  },
  {
   "cell_type": "code",
   "execution_count": 60,
   "metadata": {},
   "outputs": [],
   "source": [
    "def to_cartesian(Lat, Long,ele): # Uses kilometers\n",
    "    Lat = np.deg2rad(Lat) # Convert degrees to radians for numpy trig\n",
    "    Long = np.deg2rad(Long)\n",
    "    \n",
    "    earth_radius = 6371 # km\n",
    "    radius = earth_radius + (ele/1000)\n",
    "    x_pos = radius*np.cos(Lat)*np.sin(Long) # Convert spherical coordinates to cartesian\n",
    "    y_pos = radius*np.cos(Lat)*np.cos(Long) # Assumes earths radius = 1\n",
    "    z_pos = radius*np.sin(Lat)\n",
    "    \n",
    "    pos = pd.concat([x_pos,y_pos,z_pos],axis=1)\n",
    "    return [np.array(x) for x in pos.values]\n",
    "\n",
    "def distance(p1,p2):\n",
    "    if p1 is None or p2 is None:\n",
    "        return None\n",
    "    return 1000*sum((p2-p1)**2)**.5 # Converts kilometers to meters"
   ]
  },
  {
   "cell_type": "code",
   "execution_count": 61,
   "metadata": {},
   "outputs": [],
   "source": [
    "df['cart'] = to_cartesian(df.lat,df.lon, df.ele)"
   ]
  },
  {
   "cell_type": "code",
   "execution_count": 62,
   "metadata": {},
   "outputs": [],
   "source": [
    "prev_point = None\n",
    "dists = []\n",
    "for point in df.cart:\n",
    "    dists.append(distance(prev_point, point))\n",
    "    prev_point = point\n",
    "    \n",
    "df['delta_dist'] = dists"
   ]
  },
  {
   "cell_type": "code",
   "execution_count": 63,
   "metadata": {},
   "outputs": [],
   "source": [
    "df['delta_time'] = df.time.diff() / np.timedelta64(1, 's')"
   ]
  },
  {
   "cell_type": "code",
   "execution_count": 64,
   "metadata": {},
   "outputs": [],
   "source": [
    "df['speed'] = df.delta_dist / df.delta_time"
   ]
  },
  {
   "cell_type": "code",
   "execution_count": 65,
   "metadata": {},
   "outputs": [],
   "source": [
    "df['delta_ele'] = df.ele.diff()"
   ]
  },
  {
   "cell_type": "code",
   "execution_count": 66,
   "metadata": {},
   "outputs": [
    {
     "data": {
      "text/plain": [
       "lat                  float64\n",
       "lon                  float64\n",
       "ele                  float64\n",
       "time          datetime64[ns]\n",
       "cart                  object\n",
       "delta_dist           float64\n",
       "delta_time           float64\n",
       "speed                float64\n",
       "delta_ele            float64\n",
       "dtype: object"
      ]
     },
     "execution_count": 66,
     "metadata": {},
     "output_type": "execute_result"
    }
   ],
   "source": [
    "df.dtypes"
   ]
  },
  {
   "cell_type": "code",
   "execution_count": 67,
   "metadata": {},
   "outputs": [
    {
     "data": {
      "text/html": [
       "<div>\n",
       "<style scoped>\n",
       "    .dataframe tbody tr th:only-of-type {\n",
       "        vertical-align: middle;\n",
       "    }\n",
       "\n",
       "    .dataframe tbody tr th {\n",
       "        vertical-align: top;\n",
       "    }\n",
       "\n",
       "    .dataframe thead th {\n",
       "        text-align: right;\n",
       "    }\n",
       "</style>\n",
       "<table border=\"1\" class=\"dataframe\">\n",
       "  <thead>\n",
       "    <tr style=\"text-align: right;\">\n",
       "      <th></th>\n",
       "      <th>lat</th>\n",
       "      <th>lon</th>\n",
       "      <th>ele</th>\n",
       "      <th>time</th>\n",
       "      <th>cart</th>\n",
       "      <th>delta_dist</th>\n",
       "      <th>delta_time</th>\n",
       "      <th>speed</th>\n",
       "      <th>delta_ele</th>\n",
       "    </tr>\n",
       "  </thead>\n",
       "  <tbody>\n",
       "    <tr>\n",
       "      <th>0</th>\n",
       "      <td>40.007087</td>\n",
       "      <td>-105.257127</td>\n",
       "      <td>1616.3</td>\n",
       "      <td>2019-09-09 18:19:32</td>\n",
       "      <td>[-4709.160720306854, -1284.4939018138944, 4096...</td>\n",
       "      <td>NaN</td>\n",
       "      <td>NaN</td>\n",
       "      <td>NaN</td>\n",
       "      <td>NaN</td>\n",
       "    </tr>\n",
       "    <tr>\n",
       "      <th>1</th>\n",
       "      <td>40.007134</td>\n",
       "      <td>-105.257164</td>\n",
       "      <td>1616.5</td>\n",
       "      <td>2019-09-09 18:19:38</td>\n",
       "      <td>[-4709.156796396759, -1284.4960988057585, 4096...</td>\n",
       "      <td>6.107587</td>\n",
       "      <td>6.0</td>\n",
       "      <td>1.017931</td>\n",
       "      <td>0.2</td>\n",
       "    </tr>\n",
       "    <tr>\n",
       "      <th>2</th>\n",
       "      <td>40.007153</td>\n",
       "      <td>-105.257215</td>\n",
       "      <td>1616.7</td>\n",
       "      <td>2019-09-09 18:19:40</td>\n",
       "      <td>[-4709.154490153, -1284.4999733128654, 4096.84...</td>\n",
       "      <td>4.835641</td>\n",
       "      <td>2.0</td>\n",
       "      <td>2.417820</td>\n",
       "      <td>0.2</td>\n",
       "    </tr>\n",
       "    <tr>\n",
       "      <th>3</th>\n",
       "      <td>40.007172</td>\n",
       "      <td>-105.257260</td>\n",
       "      <td>1616.8</td>\n",
       "      <td>2019-09-09 18:19:41</td>\n",
       "      <td>[-4709.152244521696, -1284.5033345188426, 4096...</td>\n",
       "      <td>4.378687</td>\n",
       "      <td>1.0</td>\n",
       "      <td>4.378687</td>\n",
       "      <td>0.1</td>\n",
       "    </tr>\n",
       "    <tr>\n",
       "      <th>4</th>\n",
       "      <td>40.007162</td>\n",
       "      <td>-105.257336</td>\n",
       "      <td>1617.0</td>\n",
       "      <td>2019-09-09 18:19:43</td>\n",
       "      <td>[-4709.151378313914, -1284.5098094521065, 4096...</td>\n",
       "      <td>6.572543</td>\n",
       "      <td>2.0</td>\n",
       "      <td>3.286271</td>\n",
       "      <td>0.2</td>\n",
       "    </tr>\n",
       "  </tbody>\n",
       "</table>\n",
       "</div>"
      ],
      "text/plain": [
       "         lat         lon     ele                time  \\\n",
       "0  40.007087 -105.257127  1616.3 2019-09-09 18:19:32   \n",
       "1  40.007134 -105.257164  1616.5 2019-09-09 18:19:38   \n",
       "2  40.007153 -105.257215  1616.7 2019-09-09 18:19:40   \n",
       "3  40.007172 -105.257260  1616.8 2019-09-09 18:19:41   \n",
       "4  40.007162 -105.257336  1617.0 2019-09-09 18:19:43   \n",
       "\n",
       "                                                cart  delta_dist  delta_time  \\\n",
       "0  [-4709.160720306854, -1284.4939018138944, 4096...         NaN         NaN   \n",
       "1  [-4709.156796396759, -1284.4960988057585, 4096...    6.107587         6.0   \n",
       "2  [-4709.154490153, -1284.4999733128654, 4096.84...    4.835641         2.0   \n",
       "3  [-4709.152244521696, -1284.5033345188426, 4096...    4.378687         1.0   \n",
       "4  [-4709.151378313914, -1284.5098094521065, 4096...    6.572543         2.0   \n",
       "\n",
       "      speed  delta_ele  \n",
       "0       NaN        NaN  \n",
       "1  1.017931        0.2  \n",
       "2  2.417820        0.2  \n",
       "3  4.378687        0.1  \n",
       "4  3.286271        0.2  "
      ]
     },
     "execution_count": 67,
     "metadata": {},
     "output_type": "execute_result"
    }
   ],
   "source": [
    "df.head()"
   ]
  },
  {
   "cell_type": "markdown",
   "metadata": {},
   "source": [
    "When calculating air resistance, [Cycling Power Labs](https://www.cyclingpowerlab.com/CyclingAerodynamics.aspx) suggests the CdA = 0.4. This accounts for air resistance and frontal area of the average rider on the hoods."
   ]
  },
  {
   "cell_type": "code",
   "execution_count": 114,
   "metadata": {},
   "outputs": [],
   "source": [
    "m = 76\n",
    "g = 9.8\n",
    "ele_min = df.ele.min()\n",
    "\n",
    "df['energy'] = m*g*(df.ele-ele_min)+.5*m*df.speed**2\n",
    "drag_constant = 0.32\n",
    "air_resistance = drag_constant * df.speed**3\n",
    "df['power'] = (df.energy.diff()/df.delta_time) + air_resistance"
   ]
  },
  {
   "cell_type": "code",
   "execution_count": 115,
   "metadata": {},
   "outputs": [
    {
     "data": {
      "text/plain": [
       "[<matplotlib.lines.Line2D at 0x124cebc18>]"
      ]
     },
     "execution_count": 115,
     "metadata": {},
     "output_type": "execute_result"
    },
    {
     "data": {
      "image/png": "[encoded data removed]",
      "text/plain": [
       "<Figure size 432x288 with 1 Axes>"
      ]
     },
     "metadata": {
      "needs_background": "light"
     },
     "output_type": "display_data"
    }
   ],
   "source": [
    "start = 600\n",
    "frame = 1200\n",
    "plt.plot(df.speed[start:start+frame].rolling(5).mean())\n",
    "plt.plot(df.ele[start:start+frame] - df.ele[start])"
   ]
  },
  {
   "cell_type": "code",
   "execution_count": 116,
   "metadata": {},
   "outputs": [
    {
     "data": {
      "text/plain": [
       "[<matplotlib.lines.Line2D at 0x1244b2f98>]"
      ]
     },
     "execution_count": 116,
     "metadata": {},
     "output_type": "execute_result"
    },
    {
     "data": {
      "image/png": "[encoded data removed]",
      "text/plain": [
       "<Figure size 432x288 with 1 Axes>"
      ]
     },
     "metadata": {
      "needs_background": "light"
     },
     "output_type": "display_data"
    }
   ],
   "source": [
    "avg_power = df.power.rolling(60).mean()\n",
    "plt.plot(avg_power)\n",
    "plt.plot(df.ele-df.ele[0])"
   ]
  },
  {
   "cell_type": "code",
   "execution_count": 117,
   "metadata": {},
   "outputs": [
    {
     "data": {
      "text/plain": [
       "226.73103375442682"
      ]
     },
     "execution_count": 117,
     "metadata": {},
     "output_type": "execute_result"
    }
   ],
   "source": [
    "avg_power[avg_power > 0].mean()"
   ]
  },
  {
   "cell_type": "code",
   "execution_count": 118,
   "metadata": {},
   "outputs": [
    {
     "data": {
      "text/plain": [
       "216.4248634700847"
      ]
     },
     "execution_count": 118,
     "metadata": {},
     "output_type": "execute_result"
    }
   ],
   "source": [
    "hill_power = df.power[df.delta_ele > 0]\n",
    "hill_power.mean()"
   ]
  },
  {
   "cell_type": "code",
   "execution_count": 73,
   "metadata": {},
   "outputs": [
    {
     "data": {
      "image/png": "[encoded data removed]",
      "text/plain": [
       "<Figure size 432x288 with 1 Axes>"
      ]
     },
     "metadata": {
      "needs_background": "light"
     },
     "output_type": "display_data"
    }
   ],
   "source": [
    "plt.scatter(df.lon,df.lat, c=df.speed)\n",
    "plt.show()"
   ]
  },
  {
   "cell_type": "code",
   "execution_count": 74,
   "metadata": {},
   "outputs": [
    {
     "data": {
      "text/plain": [
       "[<matplotlib.lines.Line2D at 0x11d2d9320>]"
      ]
     },
     "execution_count": 74,
     "metadata": {},
     "output_type": "execute_result"
    },
    {
     "data": {
      "image/png": "[encoded data removed]",
      "text/plain": [
       "<Figure size 432x288 with 1 Axes>"
      ]
     },
     "metadata": {
      "needs_background": "light"
     },
     "output_type": "display_data"
    }
   ],
   "source": [
    "plt.plot(df.ele)"
   ]
  },
  {
   "cell_type": "code",
   "execution_count": null,
   "metadata": {},
   "outputs": [],
   "source": []
  },
  {
   "cell_type": "code",
   "execution_count": null,
   "metadata": {},
   "outputs": [],
   "source": []
  },
  {
   "cell_type": "code",
   "execution_count": null,
   "metadata": {},
   "outputs": [],
   "source": []
  }
 ],
 "metadata": {
  "kernelspec": {
   "display_name": "Python 3",
   "language": "python",
   "name": "python3"
  },
  "language_info": {
   "codemirror_mode": {
    "name": "ipython",
    "version": 3
   },
   "file_extension": ".py",
   "mimetype": "text/x-python",
   "name": "python",
   "nbconvert_exporter": "python",
   "pygments_lexer": "ipython3",
   "version": "3.7.3"
  }
 },
 "nbformat": 4,
 "nbformat_minor": 2
}
