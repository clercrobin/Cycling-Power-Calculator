{
 "cells": [
  {
   "cell_type": "code",
   "execution_count": 38,
   "metadata": {},
   "outputs": [],
   "source": [
    "import pandas as pd\n",
    "import numpy as np\n",
    "import xml.etree.ElementTree as ET\n",
    "import matplotlib.pyplot as plt\n",
    "from datetime import datetime"
   ]
  },
  {
   "cell_type": "code",
   "execution_count": 19,
   "metadata": {},
   "outputs": [],
   "source": [
    "root = ET.parse('On_the_dot.gpx').getroot()"
   ]
  },
  {
   "cell_type": "code",
   "execution_count": 41,
   "metadata": {},
   "outputs": [],
   "source": [
    "trk = root[1]\n",
    "seg = trk[2]\n",
    "point = seg[10]\n",
    "\n",
    "frame = {}\n",
    "frame['lat'] =  [float(x.get('lat')) for x in seg]\n",
    "frame['lon'] =  [float(x.get('lon')) for x in seg]\n",
    "frame['ele'] =  [float(x[0].text) for x in seg]\n",
    "frame['time'] =  [datetime.strptime(x[1].text, '%Y-%m-%dT%H:%M:%SZ') for x in seg]\n",
    "\n",
    "df = pd.DataFrame(frame)"
   ]
  },
  {
   "cell_type": "code",
   "execution_count": 145,
   "metadata": {},
   "outputs": [
    {
     "data": {
      "text/html": [
       "<div>\n",
       "<style scoped>\n",
       "    .dataframe tbody tr th:only-of-type {\n",
       "        vertical-align: middle;\n",
       "    }\n",
       "\n",
       "    .dataframe tbody tr th {\n",
       "        vertical-align: top;\n",
       "    }\n",
       "\n",
       "    .dataframe thead th {\n",
       "        text-align: right;\n",
       "    }\n",
       "</style>\n",
       "<table border=\"1\" class=\"dataframe\">\n",
       "  <thead>\n",
       "    <tr style=\"text-align: right;\">\n",
       "      <th></th>\n",
       "      <th>lat</th>\n",
       "      <th>lon</th>\n",
       "      <th>ele</th>\n",
       "      <th>time</th>\n",
       "      <th>cart</th>\n",
       "      <th>delta_dist</th>\n",
       "      <th>delta_time</th>\n",
       "      <th>speed</th>\n",
       "      <th>delta_ele</th>\n",
       "    </tr>\n",
       "  </thead>\n",
       "  <tbody>\n",
       "    <tr>\n",
       "      <th>0</th>\n",
       "      <td>40.007023</td>\n",
       "      <td>-105.257168</td>\n",
       "      <td>1616.5</td>\n",
       "      <td>2019-06-21 17:04:46</td>\n",
       "      <td>[-4709.164363857525, -1284.4985161708526, 4096...</td>\n",
       "      <td>NaN</td>\n",
       "      <td>NaN</td>\n",
       "      <td>NaN</td>\n",
       "      <td>NaN</td>\n",
       "    </tr>\n",
       "    <tr>\n",
       "      <th>1</th>\n",
       "      <td>40.007080</td>\n",
       "      <td>-105.257207</td>\n",
       "      <td>1616.6</td>\n",
       "      <td>2019-06-21 17:04:47</td>\n",
       "      <td>[-4709.1596313832, -1284.500669225206, 4096.84...</td>\n",
       "      <td>0.007158</td>\n",
       "      <td>0.000278</td>\n",
       "      <td>25.769875</td>\n",
       "      <td>0.1</td>\n",
       "    </tr>\n",
       "    <tr>\n",
       "      <th>2</th>\n",
       "      <td>40.007135</td>\n",
       "      <td>-105.257238</td>\n",
       "      <td>1616.8</td>\n",
       "      <td>2019-06-21 17:04:48</td>\n",
       "      <td>[-4709.15529011698, -1284.502222539639, 4096.8...</td>\n",
       "      <td>0.006666</td>\n",
       "      <td>0.000278</td>\n",
       "      <td>23.997671</td>\n",
       "      <td>0.2</td>\n",
       "    </tr>\n",
       "    <tr>\n",
       "      <th>3</th>\n",
       "      <td>40.007142</td>\n",
       "      <td>-105.257290</td>\n",
       "      <td>1616.9</td>\n",
       "      <td>2019-06-21 17:04:58</td>\n",
       "      <td>[-4709.153715351739, -1284.5063848745742, 4096...</td>\n",
       "      <td>0.004499</td>\n",
       "      <td>0.002778</td>\n",
       "      <td>1.619654</td>\n",
       "      <td>0.1</td>\n",
       "    </tr>\n",
       "    <tr>\n",
       "      <th>4</th>\n",
       "      <td>40.007130</td>\n",
       "      <td>-105.257352</td>\n",
       "      <td>1617.1</td>\n",
       "      <td>2019-06-21 17:05:00</td>\n",
       "      <td>[-4709.1533009714485, -1284.511746779975, 4096...</td>\n",
       "      <td>0.005452</td>\n",
       "      <td>0.000556</td>\n",
       "      <td>9.812974</td>\n",
       "      <td>0.2</td>\n",
       "    </tr>\n",
       "  </tbody>\n",
       "</table>\n",
       "</div>"
      ],
      "text/plain": [
       "         lat         lon     ele                time  \\\n",
       "0  40.007023 -105.257168  1616.5 2019-06-21 17:04:46   \n",
       "1  40.007080 -105.257207  1616.6 2019-06-21 17:04:47   \n",
       "2  40.007135 -105.257238  1616.8 2019-06-21 17:04:48   \n",
       "3  40.007142 -105.257290  1616.9 2019-06-21 17:04:58   \n",
       "4  40.007130 -105.257352  1617.1 2019-06-21 17:05:00   \n",
       "\n",
       "                                                cart  delta_dist  delta_time  \\\n",
       "0  [-4709.164363857525, -1284.4985161708526, 4096...         NaN         NaN   \n",
       "1  [-4709.1596313832, -1284.500669225206, 4096.84...    0.007158    0.000278   \n",
       "2  [-4709.15529011698, -1284.502222539639, 4096.8...    0.006666    0.000278   \n",
       "3  [-4709.153715351739, -1284.5063848745742, 4096...    0.004499    0.002778   \n",
       "4  [-4709.1533009714485, -1284.511746779975, 4096...    0.005452    0.000556   \n",
       "\n",
       "       speed  delta_ele  \n",
       "0        NaN        NaN  \n",
       "1  25.769875        0.1  \n",
       "2  23.997671        0.2  \n",
       "3   1.619654        0.1  \n",
       "4   9.812974        0.2  "
      ]
     },
     "execution_count": 145,
     "metadata": {},
     "output_type": "execute_result"
    }
   ],
   "source": [
    "df.head()"
   ]
  },
  {
   "cell_type": "code",
   "execution_count": 100,
   "metadata": {},
   "outputs": [],
   "source": [
    "def to_cartesian(Lat, Long,ele):\n",
    "    Lat = np.deg2rad(Lat) # Convert degrees to radians for numpy trig\n",
    "    Long = np.deg2rad(Long)\n",
    "    \n",
    "    earth_radius = 6371 # km\n",
    "    radius = earth_radius + (ele/1000)\n",
    "    x_pos = radius*np.cos(Lat)*np.sin(Long) # Convert spherical coordinates to cartesian\n",
    "    y_pos = radius*np.cos(Lat)*np.cos(Long) # Assumes earths radius = 1\n",
    "    z_pos = radius*np.sin(Lat)\n",
    "    \n",
    "    pos = pd.concat([x_pos,y_pos,z_pos],axis=1)\n",
    "    return [np.array(x) for x in pos.values]\n",
    "\n",
    "def distance(p1,p2):\n",
    "    if p1 is None or p2 is None:\n",
    "        return None\n",
    "    return sum((p2-p1)**2)**.5"
   ]
  },
  {
   "cell_type": "code",
   "execution_count": 101,
   "metadata": {},
   "outputs": [],
   "source": [
    "df['cart'] = to_cartesian(df.lat,df.lon, df.ele)"
   ]
  },
  {
   "cell_type": "code",
   "execution_count": 104,
   "metadata": {},
   "outputs": [],
   "source": [
    "prev_point = None\n",
    "dists = []\n",
    "for point in df.cart:\n",
    "    dists.append(distance(prev_point, point))\n",
    "    prev_point = point\n",
    "    \n",
    "df['delta_dist'] = dists"
   ]
  },
  {
   "cell_type": "code",
   "execution_count": 128,
   "metadata": {},
   "outputs": [],
   "source": [
    "df['delta_time'] = df.time.diff() / np.timedelta64(1, 'h')"
   ]
  },
  {
   "cell_type": "code",
   "execution_count": 129,
   "metadata": {},
   "outputs": [],
   "source": [
    "df['speed'] = df.delta_dist / df.delta_time"
   ]
  },
  {
   "cell_type": "code",
   "execution_count": 144,
   "metadata": {},
   "outputs": [],
   "source": [
    "df['delta_ele'] = df.ele.diff()"
   ]
  },
  {
   "cell_type": "code",
   "execution_count": 117,
   "metadata": {},
   "outputs": [
    {
     "data": {
      "text/plain": [
       "lat                   float64\n",
       "lon                   float64\n",
       "ele                   float64\n",
       "time           datetime64[ns]\n",
       "cart                   object\n",
       "delta_dist            float64\n",
       "delta_time    timedelta64[ns]\n",
       "dtype: object"
      ]
     },
     "execution_count": 117,
     "metadata": {},
     "output_type": "execute_result"
    }
   ],
   "source": [
    "df.dtypes"
   ]
  },
  {
   "cell_type": "code",
   "execution_count": 10,
   "metadata": {},
   "outputs": [
    {
     "data": {
      "image/png": "[encoded data removed]",
      "text/plain": [
       "<Figure size 432x288 with 1 Axes>"
      ]
     },
     "metadata": {
      "needs_background": "light"
     },
     "output_type": "display_data"
    }
   ],
   "source": [
    "plt.scatter(df.lat,df.lon)\n",
    "plt.show()"
   ]
  },
  {
   "cell_type": "code",
   "execution_count": 83,
   "metadata": {},
   "outputs": [
    {
     "ename": "TypeError",
     "evalue": "unsupported operand type(s) for ** or pow(): 'list' and 'int'",
     "output_type": "error",
     "traceback": [
      "\u001b[0;31m---------------------------------------------------------------------------\u001b[0m",
      "\u001b[0;31mTypeError\u001b[0m                                 Traceback (most recent call last)",
      "\u001b[0;32m<ipython-input-83-53fd7a8d387b>\u001b[0m in \u001b[0;36m<module>\u001b[0;34m\u001b[0m\n\u001b[1;32m      1\u001b[0m \u001b[0ma\u001b[0m \u001b[0;34m=\u001b[0m \u001b[0;34m[\u001b[0m\u001b[0;36m1\u001b[0m\u001b[0;34m,\u001b[0m\u001b[0;36m2\u001b[0m\u001b[0;34m]\u001b[0m\u001b[0;34m\u001b[0m\u001b[0;34m\u001b[0m\u001b[0m\n\u001b[0;32m----> 2\u001b[0;31m \u001b[0ma\u001b[0m\u001b[0;34m**\u001b[0m\u001b[0;36m2\u001b[0m\u001b[0;34m\u001b[0m\u001b[0;34m\u001b[0m\u001b[0m\n\u001b[0m",
      "\u001b[0;31mTypeError\u001b[0m: unsupported operand type(s) for ** or pow(): 'list' and 'int'"
     ]
    }
   ],
   "source": [
    "a = [1,2]\n",
    "a**2"
   ]
  },
  {
   "cell_type": "code",
   "execution_count": null,
   "metadata": {},
   "outputs": [],
   "source": []
  }
 ],
 "metadata": {
  "kernelspec": {
   "display_name": "Python 3",
   "language": "python",
   "name": "python3"
  },
  "language_info": {
   "codemirror_mode": {
    "name": "ipython",
    "version": 3
   },
   "file_extension": ".py",
   "mimetype": "text/x-python",
   "name": "python",
   "nbconvert_exporter": "python",
   "pygments_lexer": "ipython3",
   "version": "3.7.3"
  }
 },
 "nbformat": 4,
 "nbformat_minor": 2
}
